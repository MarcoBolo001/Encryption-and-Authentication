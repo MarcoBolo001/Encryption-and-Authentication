{
 "cells": [
  {
   "cell_type": "code",
   "execution_count": 1,
   "outputs": [],
   "source": [
    "from diffie_hellman import (alice_generate_keys, bob_generate_keys, alice_compute_shared_secret, bob_compute_shared_secret,\n",
    "                          generate_vigenere_key, generate_transposition_key)\n",
    "from hmac_ import demonstrate_collision, demonstrate_length_extension, hmac_xor, hmac_sha256\n",
    "import hashlib\n",
    "from ciphers import encrypt_cbc, decrypt_cbc\n",
    "from ratchet import simulate_conversation_single_ratchet, simulate_conversation_double_ratchet"
   ],
   "metadata": {
    "collapsed": false,
    "ExecuteTime": {
     "end_time": "2024-10-11T13:23:10.136656800Z",
     "start_time": "2024-10-11T13:23:09.979855900Z"
    }
   },
   "id": "3a0525e376192f5c"
  },
  {
   "cell_type": "code",
   "execution_count": 2,
   "outputs": [],
   "source": [
    "# 1536-bit MODP Group Prime (from RFC 3526)\n",
    "p = int(\"FFFFFFFFFFFFFFFFC90FDAA22168C234C4C6628B80DC1CD1\"\n",
    "             \"29024E088A67CC74020BBEA63B139B22514A08798E3404DD\"\n",
    "             \"EF9519B3CD3A431B302B0A6DF25F14374FE1356D6D51C245\"\n",
    "             \"E485B576625E7EC6F44C42E9A637ED6B0BFF5CB6F406B7ED\"\n",
    "             \"EE386BFB5A899FA5AE9F24117C4B1FE649286651ECE45B3D\"\n",
    "             \"C2007CB8A163BF0598DA48361C55D39A69163FA8FD24CF5F\"\n",
    "             \"83655D23DCA3AD961C62F356208552BB9ED529077096966D\"\n",
    "             \"670C354E4ABC9804F1746C08CA237327FFFFFFFFFFFFFFFF\", 16)\n",
    "\n",
    "g = 2  # Generator for this group\n",
    "BLOCK_SIZE = 64\n"
   ],
   "metadata": {
    "collapsed": false,
    "ExecuteTime": {
     "end_time": "2024-10-11T13:23:10.171918500Z",
     "start_time": "2024-10-11T13:23:10.038859700Z"
    }
   },
   "id": "2c285ee15b06e8e7"
  },
  {
   "cell_type": "code",
   "execution_count": 3,
   "outputs": [
    {
     "name": "stdout",
     "output_type": "stream",
     "text": [
      "Starting Diffie-Hellman Key Exchange Simulation...\n",
      "\n",
      "Alice's public key (A): 567724676873400396334710425854505260238160551900302505990137477070034574023816997636030393799039520168987759282138851040361910193029909432529712610812977908410835086691238570749353520307287233593988611031541915716756919521460287151753897609680572451736345236319824898277759436611975095149257226008979789768939592554855783401818799460970798961695319078412683282719975626733875480029051801735808635531964552636713698260683003501186362709741079403701589253050469724\n",
      "Bob's public key (B): 1432832094808031895968631866833445636079383066249849905316404047022925320818104051635327951891166221757249722432827072364413370224012184866605222222688782315144621974117803233985702367796167787502200025937116980061771631260703907300078063598347154120313485633436765169588987581179685800982166841766048780242178299979829189588450246732068651092128047219670084927870695243518955123602326668825167525068532669629779418309433883585102878737372773890832178423162402681\n",
      "Alice's computed shared secret: 2210452472248896311311727741971078764738328720705024902100755973515339969931028000993787247546402885626502124941580347605175742680134406892598170130916006534452438585100393842677154154337322990669371747410818744099929148979243115892280784755091302418887037100679389584241245666011760877095301080587057561634073796805725420350620024084028039641093220697779972318685678329223699793710954864787555605825805484382163548797342317721381043455611724951136279210335633850\n",
      "Bob's computed shared secret: 2210452472248896311311727741971078764738328720705024902100755973515339969931028000993787247546402885626502124941580347605175742680134406892598170130916006534452438585100393842677154154337322990669371747410818744099929148979243115892280784755091302418887037100679389584241245666011760877095301080587057561634073796805725420350620024084028039641093220697779972318685678329223699793710954864787555605825805484382163548797342317721381043455611724951136279210335633850\n",
      "\n",
      "Shared secret successfully established between Alice and Bob.\n"
     ]
    }
   ],
   "source": [
    "print(\"Starting Diffie-Hellman Key Exchange Simulation...\\n\")\n",
    "\n",
    "a, A = alice_generate_keys(p, g)\n",
    "print(f\"Alice's public key (A): {A}\")\n",
    "\n",
    "b, B = bob_generate_keys(p, g)\n",
    "print(f\"Bob's public key (B): {B}\")\n",
    "\n",
    "\n",
    "shared_secret_alice = alice_compute_shared_secret(a, B, p)\n",
    "print(f\"Alice's computed shared secret: {shared_secret_alice}\")\n",
    "shared_secret_bob = bob_compute_shared_secret(b, A, p)\n",
    "print(f\"Bob's computed shared secret: {shared_secret_bob}\")\n",
    "\n",
    "assert shared_secret_alice == shared_secret_bob, \"Shared secrets do not match!\"\n",
    "print(\"\\nShared secret successfully established between Alice and Bob.\")"
   ],
   "metadata": {
    "collapsed": false,
    "ExecuteTime": {
     "end_time": "2024-10-11T13:23:10.188921900Z",
     "start_time": "2024-10-11T13:23:10.090857200Z"
    }
   },
   "id": "initial_id"
  },
  {
   "cell_type": "code",
   "execution_count": 4,
   "outputs": [
    {
     "name": "stdout",
     "output_type": "stream",
     "text": [
      "Vigenère Key: EAFCBFEC\n",
      "Transposition Key: 53241\n"
     ]
    }
   ],
   "source": [
    "# Generate Vigenère key from shared secret\n",
    "vigenere_key = generate_vigenere_key(shared_secret_alice)\n",
    "print(f\"Vigenère Key: {vigenere_key}\")\n",
    "\n",
    "# Generate Transposition key from shared secret\n",
    "transposition_key = generate_transposition_key(shared_secret_alice)\n",
    "print(f\"Transposition Key: {transposition_key}\")"
   ],
   "metadata": {
    "collapsed": false,
    "ExecuteTime": {
     "end_time": "2024-10-11T13:23:10.188921900Z",
     "start_time": "2024-10-11T13:23:10.158925500Z"
    }
   },
   "id": "66e8bad78df039af"
  },
  {
   "cell_type": "markdown",
   "source": [
    "# XOR-HMAC"
   ],
   "metadata": {
    "collapsed": false
   },
   "id": "f97458c366e2bfaf"
  },
  {
   "cell_type": "code",
   "execution_count": 5,
   "outputs": [
    {
     "name": "stdout",
     "output_type": "stream",
     "text": [
      "Deriving HMAC key from the shared secret...\n",
      "Derived HMAC key: eac5d72ffe1e9b7937ee7df39b245a102c043b1e1d7bead67e31bd21dcd3911fdd8edeaadea4b3228d02ae77315f6e1a5dd0b39e7e48a4448d43f3dd274b2d6e4ad63a4fbae9b5f3deab5b284d63d4135b6f08dfa07c762cd2350ce1c5cd46e51a2b6a1e6c4f2e4604a6605dabba45581b82992eb60121677a9f733a0547d437d0699965c7eba0f03ce78ab1606c01b4e4d292011b3b1df686c98a298af0a42a597176b3831136b0092003fd559b804cb63dda00fa6236745b4f9e670e4f81ba\n",
      "\n",
      "Alice is sending the message: b'Hi Bob, this is a secure message from Alice.'\n",
      "Message HMAC: 39\n",
      "\n",
      "Concatenated message sent to Bob: Hi Bob, this is a secure message from Alice.||39\n",
      "\n",
      "Bob receives the concatenated message and proceeds to verify the HMAC...\n",
      "Received message: Hi Bob, this is a secure message from Alice.\n",
      "Received HMAC: 39\n",
      "\n",
      "Computed HMAC on the received message: 39\n",
      "\n",
      "HMAC verification successful: The message is authentic and has not been tampered with.\n"
     ]
    }
   ],
   "source": [
    "print(\"Deriving HMAC key from the shared secret...\")\n",
    "hmac_key = shared_secret_alice.to_bytes((shared_secret_alice.bit_length() + 7) // 8, byteorder='big')\n",
    "print(f\"Derived HMAC key: {hmac_key.hex()}\\n\")\n",
    "\n",
    "message_str = \"Hi Bob, this is a secure message from Alice.\"\n",
    "message = message_str.encode('utf-8')\n",
    "print(f\"Alice is sending the message: {message}\")\n",
    "    \n",
    "hmac_tag = hmac_xor(hmac_key, message)\n",
    "hmac_hex = hmac_tag.hex()\n",
    "print(f\"Message HMAC: {hmac_hex}\\n\")\n",
    "\n",
    "# Concatenate the message and HMAC as a string with '||' delimiter\n",
    "delimiter = \"||\"\n",
    "concatenated_message = message_str + delimiter + hmac_hex\n",
    "print(f\"Concatenated message sent to Bob: {concatenated_message}\\n\")\n",
    "\n",
    "print(\"Bob receives the concatenated message and proceeds to verify the HMAC...\")\n",
    "\n",
    "try: # Split using the last delimiter in the message (if more than one delimiter is present)\n",
    "    received_message_str, received_hmac_hex = concatenated_message.rsplit(delimiter, 1)\n",
    "except ValueError:\n",
    "    print(\"Error: Invalid message format. Delimiter missing.\")\n",
    "    exit(1)\n",
    "\n",
    "received_message = received_message_str.encode('utf-8')\n",
    "received_hmac = bytes.fromhex(received_hmac_hex)\n",
    "\n",
    "print(f\"Received message: {received_message_str}\")\n",
    "print(f\"Received HMAC: {received_hmac_hex}\\n\")\n",
    "\n",
    "computed_hmac = hmac_xor(hmac_key, received_message)\n",
    "computed_hmac_hex = computed_hmac.hex()\n",
    "print(f\"Computed HMAC on the received message: {computed_hmac_hex}\\n\")\n",
    "\n",
    "if received_hmac_hex == computed_hmac_hex:\n",
    "    print(\"HMAC verification successful: The message is authentic and has not been tampered with.\")\n",
    "else:\n",
    "    print(\"HMAC verification failed: The message might have been tampered with or is not authentic.\")"
   ],
   "metadata": {
    "collapsed": false,
    "ExecuteTime": {
     "end_time": "2024-10-11T13:23:10.299099700Z",
     "start_time": "2024-10-11T13:23:10.181928800Z"
    }
   },
   "id": "561ec022e9dcef30"
  },
  {
   "cell_type": "code",
   "execution_count": 6,
   "outputs": [
    {
     "name": "stdout",
     "output_type": "stream",
     "text": [
      "Demonstration 1: Collision vulnerability\n",
      "HMAC for 'b'Hello, World!'': 2d\n",
      "HMAC for 'b'Olleh, Dlrow!'': 2d\n",
      "HMACs are the same: True\n",
      "\n",
      "Demonstration 2: Length extension attack\n",
      "Original HMAC: 6c\n",
      "Extended HMAC: 7f\n",
      "Forged HMAC:   7f\n",
      "Forged HMAC matches extended HMAC: True\n"
     ]
    }
   ],
   "source": [
    "demonstrate_collision()\n",
    "demonstrate_length_extension()"
   ],
   "metadata": {
    "collapsed": false,
    "ExecuteTime": {
     "end_time": "2024-10-11T13:23:10.299099700Z",
     "start_time": "2024-10-11T13:23:10.201932700Z"
    }
   },
   "id": "6009494e70e65846"
  },
  {
   "cell_type": "markdown",
   "source": [
    "# Solution: use HMAC-SHA256"
   ],
   "metadata": {
    "collapsed": false
   },
   "id": "7ff8b744e3a65cb7"
  },
  {
   "cell_type": "code",
   "execution_count": 7,
   "outputs": [
    {
     "name": "stdout",
     "output_type": "stream",
     "text": [
      "Deriving HMAC key from the shared secret...\n",
      "Derived HMAC key: 4eaf3c99b4f47ecf59729822730460c2bf279e8d63f6be6486a77d856ce8a2d0\n",
      "\n",
      "Alice is sending the message: Hi Bob, this is a secure message from Alice.\n",
      "Message HMAC: d8e18b73584bfe646a7ed1a6f58d98ddbd7a2cbf6332ab322e473f3e30bd3a0d\n",
      "\n",
      "Concatenated message sent to Bob: Hi Bob, this is a secure message from Alice.||d8e18b73584bfe646a7ed1a6f58d98ddbd7a2cbf6332ab322e473f3e30bd3a0d\n",
      "\n",
      "Bob receives the concatenated message and proceeds to verify the HMAC...\n",
      "Received message: Hi Bob, this is a secure message from Alice.\n",
      "Received HMAC: d8e18b73584bfe646a7ed1a6f58d98ddbd7a2cbf6332ab322e473f3e30bd3a0d\n",
      "\n",
      "Computed HMAC on the received message: d8e18b73584bfe646a7ed1a6f58d98ddbd7a2cbf6332ab322e473f3e30bd3a0d\n",
      "\n",
      "HMAC verification successful: The message is authentic and has not been tampered with.\n"
     ]
    }
   ],
   "source": [
    "print(\"Deriving HMAC key from the shared secret...\")\n",
    "shared_secret_bytes = shared_secret_alice.to_bytes((shared_secret_alice.bit_length() + 7) // 8, byteorder='big')\n",
    "hmac_key = hashlib.sha256(shared_secret_bytes).digest()\n",
    "\n",
    "print(f\"Derived HMAC key: {hmac_key.hex()}\\n\")\n",
    "\n",
    "message_str = \"Hi Bob, this is a secure message from Alice.\"\n",
    "message = message_str.encode('utf-8')\n",
    "print(f\"Alice is sending the message: {message_str}\")\n",
    "\n",
    "hmac_tag = hmac_sha256(hmac_key, message)\n",
    "hmac_hex = hmac_tag.hex()\n",
    "print(f\"Message HMAC: {hmac_hex}\\n\")\n",
    "\n",
    "# Concatenate the message and HMAC as a string with '||' delimiter\n",
    "delimiter = \"||\"\n",
    "concatenated_message = message_str + delimiter + hmac_hex\n",
    "print(f\"Concatenated message sent to Bob: {concatenated_message}\\n\")\n",
    "\n",
    "print(\"Bob receives the concatenated message and proceeds to verify the HMAC...\")\n",
    "\n",
    "try: # Split using the last delimiter in the message (if more than one delimiter is present)\n",
    "    received_message_str, received_hmac_hex = concatenated_message.rsplit(delimiter, 1)\n",
    "except ValueError:\n",
    "    print(\"Error: Invalid message format. Delimiter missing.\")\n",
    "    exit(1)\n",
    "\n",
    "received_message = received_message_str.encode('utf-8')\n",
    "received_hmac = bytes.fromhex(received_hmac_hex)\n",
    "\n",
    "print(f\"Received message: {received_message_str}\")\n",
    "print(f\"Received HMAC: {received_hmac_hex}\\n\")\n",
    "\n",
    "computed_hmac = hmac_sha256(hmac_key, received_message)\n",
    "computed_hmac_hex = computed_hmac.hex()\n",
    "print(f\"Computed HMAC on the received message: {computed_hmac_hex}\\n\")\n",
    "\n",
    "if received_hmac_hex == computed_hmac_hex:\n",
    "    print(\"HMAC verification successful: The message is authentic and has not been tampered with.\")\n",
    "else:\n",
    "    print(\"HMAC verification failed: The message might have been tampered with or is not authentic.\")\n"
   ],
   "metadata": {
    "collapsed": false,
    "ExecuteTime": {
     "end_time": "2024-10-11T13:23:10.300101700Z",
     "start_time": "2024-10-11T13:23:10.222923900Z"
    }
   },
   "id": "3f7cab493416c6a9"
  },
  {
   "cell_type": "markdown",
   "source": [
    "# Ciphering"
   ],
   "metadata": {
    "collapsed": false
   },
   "id": "8ee7f530ee080201"
  },
  {
   "cell_type": "code",
   "execution_count": 8,
   "outputs": [
    {
     "name": "stdout",
     "output_type": "stream",
     "text": [
      "Alice is sending the message:\n",
      "Hi Bob, this is a secure message from Alice.\n",
      "\n",
      "Concatenated message:\n",
      "Hi Bob, this is a secure message from Alice.||d8e18b73584bfe646a7ed1a6f58d98ddbd7a2cbf6332ab322e473f3e30bd3a0d\n",
      "\n",
      "Encrypted message sent to Bob:\n",
      "´©fc«r··Ê\f\u000F\u0000\u0000\u001EÕ)\u0001kOi­¸¶©~·èÞ\u0000ÞÕ\u000EÍ(31Z\u001Fru®«g[Ô÷e\u000B\u000F\u001D#2¹j\u0019£ty·Ôñg\u0006\n",
      "Ø\u000E\u001D,3KmÀur®­aEÒõ·Ò\u000BÔ\t\u001Bó3A>\u0010wrp®b@Ôö\n",
      "\n",
      "Bob receives the encrypted message and proceeds to decrypt it...\n",
      "Decrypted message:\n",
      "Hi Bob, this is a secure message from Alice.||d8e18b73584bfe646a7ed1a6f58d98ddbd7a2cbf6332ab322e473f3e30bd3a0d\n",
      "\n",
      "Received message: b'Hi Bob, this is a secure message from Alice.'\n",
      "Received HMAC: d8e18b73584bfe646a7ed1a6f58d98ddbd7a2cbf6332ab322e473f3e30bd3a0d\n",
      "\n",
      "Computed HMAC on the received message: d8e18b73584bfe646a7ed1a6f58d98ddbd7a2cbf6332ab322e473f3e30bd3a0d\n",
      "\n",
      "HMAC verification successful: The message is authentic and has not been tampered with.\n"
     ]
    }
   ],
   "source": [
    "shared_secret_bytes = shared_secret_alice.to_bytes((shared_secret_alice.bit_length() + 7) // 8, byteorder='big')\n",
    "hmac_key = hashlib.sha256(shared_secret_bytes).digest()\n",
    "vigenere_key = generate_vigenere_key(shared_secret_alice)\n",
    "transposition_key = generate_transposition_key(shared_secret_alice)\n",
    "    \n",
    "message_str = \"Hi Bob, this is a secure message from Alice.\"\n",
    "print(f\"Alice is sending the message:\\n{message_str}\\n\")\n",
    "\n",
    "hmac_tag = hmac_sha256(hmac_key, message)\n",
    "hmac_hex = hmac_tag.hex()\n",
    "\n",
    "delimiter = \"||\"\n",
    "concatenated_message = message_str + delimiter + hmac_hex\n",
    "# Encrypt the concatenated message\n",
    "ciphertext = encrypt_cbc(concatenated_message, transposition_key, vigenere_key)\n",
    "print(f\"Concatenated message:\\n{concatenated_message}\\n\")\n",
    "print(f\"Encrypted message sent to Bob:\\n{ciphertext}\\n\")\n",
    "\n",
    "print(\"Bob receives the encrypted message and proceeds to decrypt it...\")\n",
    "# Decrypt the message\n",
    "decrypted_message = decrypt_cbc(ciphertext, transposition_key, vigenere_key)\n",
    "print(f\"Decrypted message:\\n{decrypted_message}\\n\")\n",
    "\n",
    "try: # Split using the last delimiter in the message (if more than one delimiter is present)\n",
    "    received_message_str, received_hmac_hex = decrypted_message.rsplit(delimiter, 1)\n",
    "except ValueError:\n",
    "    print(\"Error: Invalid message format. Delimiter missing.\")\n",
    "    exit(1)\n",
    "\n",
    "received_message = received_message_str.encode('utf-8')\n",
    "received_hmac = bytes.fromhex(received_hmac_hex)\n",
    "\n",
    "print(f\"Received message: {received_message}\")\n",
    "print(f\"Received HMAC: {received_hmac.hex()}\\n\")\n",
    "\n",
    "computed_hmac = hmac_sha256(hmac_key, received_message)\n",
    "print(f\"Computed HMAC on the received message: {computed_hmac.hex()}\\n\")\n",
    "\n",
    "if received_hmac == computed_hmac:\n",
    "    print(\"HMAC verification successful: The message is authentic and has not been tampered with.\")\n",
    "else:\n",
    "    print(\"HMAC verification failed: The message might have been tampered with or is not authentic.\")"
   ],
   "metadata": {
    "collapsed": false,
    "ExecuteTime": {
     "end_time": "2024-10-11T13:23:10.329103200Z",
     "start_time": "2024-10-11T13:23:10.254801600Z"
    }
   },
   "id": "cc516937277eb489"
  },
  {
   "cell_type": "markdown",
   "source": [
    "# Ratchet"
   ],
   "metadata": {
    "collapsed": false
   },
   "id": "aca6e0eab14c951b"
  },
  {
   "cell_type": "code",
   "execution_count": 9,
   "outputs": [
    {
     "name": "stdout",
     "output_type": "stream",
     "text": [
      "Performing Diffie-Hellman Key Exchange...\n",
      "\n",
      "Deriving HMAC key from shared secret...\n",
      "Derived HMAC key: 9cafb61150c14a36a5b66038c891683f956ce1c148346b458c0e7a3881389d0d\n",
      "\n",
      "Chain Key initialization for Alice and Bob completed.\n",
      "Alice's Chain Key: 9cafb61150c14a36a5b66038c891683f956ce1c148346b458c0e7a3881389d0d\n",
      "Bob's Chain Key:   9cafb61150c14a36a5b66038c891683f956ce1c148346b458c0e7a3881389d0d\n",
      "\n",
      "\n",
      "Alice sends: Hi Bob, how are you?\n",
      "Concatenated Message:\n",
      " yx~wxsu©nf\f\u0006Ö\u0000\u0002\u0000\u0000\u0000\n",
      "¤supÏ«¤väß\u000BÞ\u0001f\u0003Þ\u0005õ¥|t§\u001C­~\u0012bÒ\u0001\u0002\u0000f\u0006Ù\tø¥©u¦Às¯¡\u001CnÓ\u0000\t\u0001·\u0005\n",
      "v©wfw`\u001Dp¢kâé\n",
      "\n",
      "Bob receives:\n",
      " yx~wxsu©nf\f\u0006Ö\u0000\u0002\u0000\u0000\u0000\n",
      "¤supÏ«¤väß\u000BÞ\u0001f\u0003Þ\u0005õ¥|t§\u001C­~\u0012bÒ\u0001\u0002\u0000f\u0006Ù\tø¥©u¦Às¯¡\u001CnÓ\u0000\t\u0001·\u0005\n",
      "v©wfw`\u001Dp¢kâé\n",
      "Valid HMAC: True\n",
      "Decrypted message: Hi Bob, how are you?\n",
      "\n",
      "Alice's Chain Key after sending: b091c361fa2edcf38613dea09d483965d642663c46c5319671474bd45247665e0000000000000000000000000000000000000000000000000000000000000000\n",
      "Bob's Chain Key after receiving: b091c361fa2edcf38613dea09d483965d642663c46c5319671474bd45247665e0000000000000000000000000000000000000000000000000000000000000000\n",
      "\n",
      "\n",
      "Bob sends: Hi Alice, I'm fine, thanks! And you?\n",
      "Concatenated Message:\n",
      " s§|xwvzuh\u0004Ó\n",
      "\u0004\u0004\u0007s©pty§zula\u0004ÝØ\u0000\u0000Ü\u0001\u0006\u0000òs{£xz«wql5\u0000Ò×\u0000\u0000Ý\u0002£x«¤yy¢tsa8Þ\f\u001B\f\u000FÞÜ\t®¬tmv¨¥xåÄÖÞ\u0014\f\fÒÜÜ\u000F§£°uv¤{ªí}\u0004ßÉ\u0003ÑÙ\tÞv\u0016ww¿wt§pª\u001D\u0003\u0013É\u0015\u000FßÔ\n",
      "\n",
      "Alice receives:\n",
      " s§|xwvzuh\u0004Ó\n",
      "\u0004\u0004\u0007s©pty§zula\u0004ÝØ\u0000\u0000Ü\u0001\u0006\u0000òs{£xz«wql5\u0000Ò×\u0000\u0000Ý\u0002£x«¤yy¢tsa8Þ\f\u001B\f\u000FÞÜ\t®¬tmv¨¥xåÄÖÞ\u0014\f\fÒÜÜ\u000F§£°uv¤{ªí}\u0004ßÉ\u0003ÑÙ\tÞv\u0016ww¿wt§pª\u001D\u0003\u0013É\u0015\u000FßÔ\n",
      "Valid HMAC: True\n",
      "Decrypted message: Hi Alice, I'm fine, thanks! And you?\n",
      "\n",
      "Bob's Chain Key after sending: 7fdf25205358bea492f1df88f684cbdab7049cf5a282f2677613c34981eaa8320000000000000000000000000000000000000000000000000000000000000000\n",
      "Alice's Chain Key after receiving: 7fdf25205358bea492f1df88f684cbdab7049cf5a282f2677613c34981eaa8320000000000000000000000000000000000000000000000000000000000000000\n",
      "\n",
      "\n",
      "Alice sends: I'm doing well too. Would you like to eat pizza tonight?\n",
      "Concatenated Message:\n",
      "\u0000\u0006û\u0005}wx¯®vzs`hÖÓo\u0004ô\f¬ws¯xv{qgÙ\u000F\u000BÙ\u0006\u0000\u0001\u0000úúqx|¯xv{qc\u000F\u000BÙ\n",
      "Ý\u0004ùòpª½yÅw§¡jl\u0005\tÏÛ¸\n",
      "ÑÔþªsz·ÆptrÏ\u0006\u000FÅ\u0005`Ú\u0001\u000B\u0004ªp|`vÊswyÃÖ\u000EÅ\f¼\u0017\u0002\u0018\u000BV\n",
      "\n",
      "Bob receives:\n",
      "\u0000\u0006û\u0005}wx¯®vzs`hÖÓo\u0004ô\f¬ws¯xv{qgÙ\u000F\u000BÙ\u0006\u0000\u0001\u0000úúqx|¯xv{qc\u000F\u000BÙ\n",
      "Ý\u0004ùòpª½yÅw§¡jl\u0005\tÏÛ¸\n",
      "ÑÔþªsz·ÆptrÏ\u0006\u000FÅ\u0005`Ú\u0001\u000B\u0004ªp|`vÊswyÃÖ\u000EÅ\f¼\u0017\u0002\u0018\u000BV\n",
      "Valid HMAC: True\n",
      "Decrypted message: I'm doing well too. Would you like to eat pizza tonight?\n",
      "\n",
      "Alice's Chain Key after sending: 4077b92a8d093e19f58f00cd2d69d652e1323b2509998905264a1f0a6972f78f0000000000000000000000000000000000000000000000000000000000000000\n",
      "Bob's Chain Key after receiving: 4077b92a8d093e19f58f00cd2d69d652e1323b2509998905264a1f0a6972f78f0000000000000000000000000000000000000000000000000000000000000000\n",
      "\n",
      "\n",
      "Bob sends: Yes, sure. At what time we meet?\n",
      "Concatenated Message:\n",
      " xsxsztx©nd\u0000\u0000\u0000Û\u0006\u0007\u0001Ò\u0006\ftxx¡qrw¤ge\u0000\u0000\u0000Ö\n",
      "\u0007\u000FÒ\u000E\f§xw¬qqw¤eÔ\u000F\u0000Ô\n",
      "Ô\u0003ßö\t}ª½£viv¥lÕÐ\u0018×\u000B\u001FÐÚùø£u`¡}¼¨¡`b\n",
      "\fÅ\u001FÑÛ¬\u000F¬u¿£s¸u­k\u0005\u0004\u001C\u0007\u0004\u001C\u0006Úô\u0000vpj¯roq¦\n",
      "\n",
      "Alice receives:\n",
      " xsxsztx©nd\u0000\u0000\u0000Û\u0006\u0007\u0001Ò\u0006\ftxx¡qrw¤ge\u0000\u0000\u0000Ö\n",
      "\u0007\u000FÒ\u000E\f§xw¬qqw¤eÔ\u000F\u0000Ô\n",
      "Ô\u0003ßö\t}ª½£viv¥lÕÐ\u0018×\u000B\u001FÐÚùø£u`¡}¼¨¡`b\n",
      "\fÅ\u001FÑÛ¬\u000F¬u¿£s¸u­k\u0005\u0004\u001C\u0007\u0004\u001C\u0006Úô\u0000vpj¯roq¦\n",
      "Valid HMAC: True\n",
      "Decrypted message: Yes, sure. At what time we meet?\n",
      "\n",
      "Bob's Chain Key after sending: 4aad512e5f6fa0108b4c51a7c806459878a9835434c55d1a006b4eb9eef570110000000000000000000000000000000000000000000000000000000000000000\n",
      "Alice's Chain Key after receiving: 4aad512e5f6fa0108b4c51a7c806459878a9835434c55d1a006b4eb9eef570110000000000000000000000000000000000000000000000000000000000000000\n",
      "\n",
      "\n",
      "Alice sends: Let's meet at 8 PM downtown.\n",
      "Concatenated Message:\n",
      "ßø{~tezztuc\u001D\u000E\t\u0003\u0010\t\tÜ\u0002õz¨jarhj¹d`:\u0014Ó\u0002\u000FÂßß\u000FÒ\u0006«w©º{z§©\u0014Ý\u000BÐ\u001F\u000EÜ\n",
      "\n",
      "Bob receives:\n",
      "ßø{~tezztuc\u001D\u000E\t\u0003\u0010\t\tÜ\u0002õz¨jarhj¹d`:\u0014Ó\u0002\u000FÂßß\u000FÒ\u0006«w©º{z§©\u0014Ý\u000BÐ\u001F\u000EÜ\n",
      "Valid HMAC: True\n",
      "Decrypted message: Let's meet at 8 PM downtown.\n",
      "\n",
      "Alice's Chain Key after sending: 89a1e1dbd64344200cca4747420652033592eede699a0606ed22e8a51a3034270000000000000000000000000000000000000000000000000000000000000000\n",
      "Bob's Chain Key after receiving: 89a1e1dbd64344200cca4747420652033592eede699a0606ed22e8a51a3034270000000000000000000000000000000000000000000000000000000000000000\n"
     ]
    }
   ],
   "source": [
    "simulate_conversation_single_ratchet()"
   ],
   "metadata": {
    "collapsed": false,
    "ExecuteTime": {
     "end_time": "2024-10-11T13:23:10.526104500Z",
     "start_time": "2024-10-11T13:23:10.275104700Z"
    }
   },
   "id": "52a03b9b4e532be0"
  },
  {
   "cell_type": "code",
   "execution_count": 10,
   "outputs": [
    {
     "name": "stdout",
     "output_type": "stream",
     "text": [
      "Performing Diffie-Hellman Key Exchange...\n",
      "Shared secret:\n",
      "928328669905669211202717078757567278279421195391331068053470809347459537468752949538302883485698620401306336297761936010960442591541408637774895494774875662807598236542293208949491934099669168836741653445251787877591771293763242723197598133952967404823456591092014982753885055555987872744358216706484415563403387831037348104276901132919808343667932286450814706878935585190150594731662952090292567637656341004789609180466709132729247502572412714186205889305652166\n",
      "Deriving HMAC key from shared secret...\n",
      "Derived HMAC key: b93b6fbcb1c4cd0b859e7fb13f8be00bb8b141b0280c688e3efc49f27ef1acee\n",
      "\n",
      "Chain Key initialization for Alice and Bob completed.\n",
      "Alice's Chain Key: b93b6fbcb1c4cd0b859e7fb13f8be00bb8b141b0280c688e3efc49f27ef1acee\n",
      "Bob's Chain Key:   b93b6fbcb1c4cd0b859e7fb13f8be00bb8b141b0280c688e3efc49f27ef1acee\n",
      "\n",
      "\n",
      "Alice sends: Hi Bob, how are you?\n",
      "Concatenated Message:\n",
      " |w|wzuwukÚ\u0000\n",
      "\u000E\u0006\u0000\u0004\u000Eþ\u0000©wqt{vw{kÕ\u0003\u0005\u000E\u0003Ý\u000F\u0003÷ò  Å¦Á{|z`5ÚÓcÕºÓ\u000E\u0000\u000BR­ Ë¯\u0011¯uÇ\t\u0007·Ö½ØÛÑ\u0007Yu~À¥\u0011®­vÀÒÙg\u0002oÓ\u0005Û±\f¡¸\u0010a\u0012z}¸ÐL\n",
      "\n",
      "Bob receives:\n",
      " |w|wzuwukÚ\u0000\n",
      "\u000E\u0006\u0000\u0004\u000Eþ\u0000©wqt{vw{kÕ\u0003\u0005\u000E\u0003Ý\u000F\u0003÷ò  Å¦Á{|z`5ÚÓcÕºÓ\u000E\u0000\u000BR­ Ë¯\u0011¯uÇ\t\u0007·Ö½ØÛÑ\u0007Yu~À¥\u0011®­vÀÒÙg\u0002oÓ\u0005Û±\f¡¸\u0010a\u0012z}¸ÐL\n",
      "Valid HMAC: True\n",
      "Decrypted message: Hi Bob, how are you?\n",
      "\n",
      "Alice's Chain Key after sending: 1e64b0e1cf1ea449814032bfa79e9d6fb9e2c91018c2a64eb85101d6dc2e98c20000000000000000000000000000000000000000000000000000000000000000\n",
      "Bob's Chain Key after receiving: 1e64b0e1cf1ea449814032bfa79e9d6fb9e2c91018c2a64eb85101d6dc2e98c20000000000000000000000000000000000000000000000000000000000000000\n",
      "\n",
      "\n",
      "Bob sends: Hi Alice, I'm fine, thanks! And you?\n",
      "Concatenated Message:\n",
      " zwzzw¤xsne\u0001\u0002\u000E\f\fÕ\u0002\u000B\u0001ðzwvvw¢z¬j\u0001\u0002Ð\u0000\fÓ\u0000Ô\u0005\u0007w{©zwp{ o\u0002\fÛ\u0000\u0000Ö\u0000Ó\n",
      "Ôñz«ar{¨¢\u0013Ü\u0002\u0012ÕÒ\u0006Ô\u0007ÖQ©vh¨u¡}½6ÑÞ\u001EÔ\u000E\f\u0004\u0005Ö £¥»rr®rGÏÔÝ\u001E\u0016+¨\n",
      "\n",
      "Alice receives:\n",
      " zwzzw¤xsne\u0001\u0002\u000E\f\fÕ\u0002\u000B\u0001ðzwvvw¢z¬j\u0001\u0002Ð\u0000\fÓ\u0000Ô\u0005\u0007w{©zwp{ o\u0002\fÛ\u0000\u0000Ö\u0000Ó\n",
      "Ôñz«ar{¨¢\u0013Ü\u0002\u0012ÕÒ\u0006Ô\u0007ÖQ©vh¨u¡}½6ÑÞ\u001EÔ\u000E\f\u0004\u0005Ö £¥»rr®rGÏÔÝ\u001E\u0016+¨\n",
      "Valid HMAC: True\n",
      "Decrypted message: Hi Alice, I'm fine, thanks! And you?\n",
      "\n",
      "Bob's Chain Key after sending: 6d74abcbf77198ea0312df2e372d43fd924e6626d352f5f7b6550061faf3265e0000000000000000000000000000000000000000000000000000000000000000\n",
      "Alice's Chain Key after receiving: 6d74abcbf77198ea0312df2e372d43fd924e6626d352f5f7b6550061faf3265e0000000000000000000000000000000000000000000000000000000000000000\n",
      "\n",
      "\n",
      "Alice sends: I'm doing well too. Would you like to eat pizza tonight?\n",
      "Concatenated Message:\n",
      "\u0004yr}¥¦pt¡cb\u0004\u0003\u0001ÒÐ\u000B\u0000\u0006û\u0005x{}©®wxs`h\u0001\u0002¿\u000Fo\t\u0002\u0005ù\u0018ªvÅwÆpxp3q\u0003Ð¸Ñ±\fÝ\u0003õèª¥ÃyÇ{x¥nÔÒi\fn\u0000\u0002Ó\u0006í£ \u001F¨É~qpnØ×eÓa\u001B×\u0011\u0006ì\n",
      "\n",
      "Bob receives:\n",
      "\u0004yr}¥¦pt¡cb\u0004\u0003\u0001ÒÐ\u000B\u0000\u0006û\u0005x{}©®wxs`h\u0001\u0002¿\u000Fo\t\u0002\u0005ù\u0018ªvÅwÆpxp3q\u0003Ð¸Ñ±\fÝ\u0003õèª¥ÃyÇ{x¥nÔÒi\fn\u0000\u0002Ó\u0006í£ \u001F¨É~qpnØ×eÓa\u001B×\u0011\u0006ì\n",
      "Valid HMAC: True\n",
      "Decrypted message: I'm doing well too. Would you like to eat pizza tonight?\n",
      "\n",
      "Alice's Chain Key after sending: af9b76bdf87292eead9cac5211c81530f3e27c8b596f28424e5ff783b09c7c5d0000000000000000000000000000000000000000000000000000000000000000\n",
      "Bob's Chain Key after receiving: af9b76bdf87292eead9cac5211c81530f3e27c8b596f28424e5ff783b09c7c5d0000000000000000000000000000000000000000000000000000000000000000\n",
      "\n",
      "\n",
      "Reached the 3-message interval, performing DH Ratchet...\n",
      "\n",
      "New Root Key Alice: 74004ea5cc663ac10e968c2b4ad71451894d108574062fe791cde0746d5540d90000000000000000000000000000000000000000000000000000000000000000\n",
      "New Chain Key Alice: 74004ea5cc663ac10e968c2b4ad71451894d108574062fe791cde0746d5540d90000000000000000000000000000000000000000000000000000000000000000\n",
      "New Root Key Bob:   74004ea5cc663ac10e968c2b4ad71451894d108574062fe791cde0746d5540d90000000000000000000000000000000000000000000000000000000000000000\n",
      "New Chain Key Bob:   74004ea5cc663ac10e968c2b4ad71451894d108574062fe791cde0746d5540d90000000000000000000000000000000000000000000000000000000000000000\n",
      "\n",
      "\n",
      "Bob sends: Yes, sure. At what time we meet?\n",
      "Concatenated Message:\n",
      "}ws}x¯z§fke\u000E\u0001\u0000\u0000\u0000×\u000FÒ\u0004\n",
      "}v¦}w¢z§gj\n",
      "Ú\u0002H\u0011­ew£nz|zÔx¥}£g.Õ\u001DÚ\u0001\u001AÖÙÞ M¤»~©`¬ u1×\u001DÖ\u0000\u0011ÞS\u0013¯erwc«~~#{Õ\u0013\u0004Û\u0016\n",
      "\n",
      "Alice receives:\n",
      "}ws}x¯z§fke\u000E\u0001\u0000\u0000\u0000×\u000FÒ\u0004\n",
      "}v¦}w¢z§gj\n",
      "Ú\u0002H\u0011­ew£nz|zÔx¥}£g.Õ\u001DÚ\u0001\u001AÖÙÞ M¤»~©`¬ u1×\u001DÖ\u0000\u0011ÞS\u0013¯erwc«~~#{Õ\u0013\u0004Û\u0016\n",
      "Valid HMAC: True\n",
      "Decrypted message: Yes, sure. At what time we meet?\n",
      "\n",
      "Bob's Chain Key after sending: f56ffc015a1ae1838396ad36bcc43e5054ea5453ad9ee99f63721212f4d0d29c0000000000000000000000000000000000000000000000000000000000000000\n",
      "Alice's Chain Key after receiving: f56ffc015a1ae1838396ad36bcc43e5054ea5453ad9ee99f63721212f4d0d29c0000000000000000000000000000000000000000000000000000000000000000\n",
      "\n",
      "\n",
      "Alice sends: Let's meet at 8 PM downtown.\n",
      "Concatenated Message:\n",
      "\fúu¡yxr|­u`1\u0006×\u000EÆ\u0004Ñ\u0000\u0003\u000Ewsw|¤w¦ujb\u0002\u000B\u0001\u000EÕ\u0004Ð\n",
      "Á\u0006Ö\t¦u}«`®d~pkm\u0000Å\u000B\u0010\u0004\t\u000Eö¥sp²j¬¡`ÑÕÒË\f\u0013ÑÒðö |u¸ªj®z=Ò\u0007ÒÂÓ\u0013Ò\u0001òV³c³ pr´cv\u0016\n",
      "\n",
      "Bob receives:\n",
      "\fúu¡yxr|­u`1\u0006×\u000EÆ\u0004Ñ\u0000\u0003\u000Ewsw|¤w¦ujb\u0002\u000B\u0001\u000EÕ\u0004Ð\n",
      "Á\u0006Ö\t¦u}«`®d~pkm\u0000Å\u000B\u0010\u0004\t\u000Eö¥sp²j¬¡`ÑÕÒË\f\u0013ÑÒðö |u¸ªj®z=Ò\u0007ÒÂÓ\u0013Ò\u0001òV³c³ pr´cv\u0016\n",
      "Valid HMAC: True\n",
      "Decrypted message: Let's meet at 8 PM downtown.\n",
      "\n",
      "Alice's Chain Key after sending: 23e9a3c4494e2963122c812afa918b73a3eb9393f4142d8e4a2f87d9a45b037a0000000000000000000000000000000000000000000000000000000000000000\n",
      "Bob's Chain Key after receiving: 23e9a3c4494e2963122c812afa918b73a3eb9393f4142d8e4a2f87d9a45b037a0000000000000000000000000000000000000000000000000000000000000000\n"
     ]
    }
   ],
   "source": [
    "simulate_conversation_double_ratchet()"
   ],
   "metadata": {
    "collapsed": false,
    "ExecuteTime": {
     "end_time": "2024-10-11T13:23:10.651421400Z",
     "start_time": "2024-10-11T13:23:10.381105300Z"
    }
   },
   "id": "28c327b3375093b0"
  }
 ],
 "metadata": {
  "kernelspec": {
   "display_name": "Python 3",
   "language": "python",
   "name": "python3"
  },
  "language_info": {
   "codemirror_mode": {
    "name": "ipython",
    "version": 2
   },
   "file_extension": ".py",
   "mimetype": "text/x-python",
   "name": "python",
   "nbconvert_exporter": "python",
   "pygments_lexer": "ipython2",
   "version": "2.7.6"
  }
 },
 "nbformat": 4,
 "nbformat_minor": 5
}
